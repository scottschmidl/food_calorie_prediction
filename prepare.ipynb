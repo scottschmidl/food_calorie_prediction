{
 "cells": [
  {
   "cell_type": "code",
   "execution_count": 3,
   "metadata": {},
   "outputs": [],
   "source": [
    "from wrangle import Wrangle\n",
    "import pandas as pd\n",
    "pd.options.display.max_columns = 110"
   ]
  },
  {
   "cell_type": "code",
   "execution_count": 4,
   "metadata": {},
   "outputs": [],
   "source": [
    "nutrition_facts = Wrangle().get_food_data()"
   ]
  },
  {
   "cell_type": "code",
   "execution_count": null,
   "metadata": {},
   "outputs": [],
   "source": [
    "# removed food group nulls\n",
    "nutrition_facts = nutrition_facts.dropna(axis=0, subset=[\"Food Group\"])"
   ]
  },
  {
   "cell_type": "code",
   "execution_count": null,
   "metadata": {},
   "outputs": [],
   "source": [
    "# dropping columns that have every value missing\n",
    "cols_drop = [\"Added Sugar g\", \"Soluble Fiber g\", \"Insoluble Fiber g\", \"Total sugar alcohols g\", \"Molybdenum mcg\", \"Chlorine mg\", \"Biotin B7 mcg\", \"NetCarbs g\"]\n",
    "nutrition_facts = nutrition_facts.drop(columns=cols_drop, axis=1)"
   ]
  },
  {
   "cell_type": "code",
   "execution_count": null,
   "metadata": {},
   "outputs": [],
   "source": [
    "# dropping cols that don't seem to mean much\n",
    "more_drop = [\"ID\", \"Name\", '183 n3 ccc ALA mg', '205 n3 EPA mg', '225 n3 DPA mg', '226 n3 DHA mg', \"Serving Weight 1 g\", \"Serving Weight 2 g\", \"Serving Weight 3 g\", \"Serving Weight 4 g\", \"Serving Weight 5 g\", \"Serving Weight 6 g\", \"Serving Weight 7 g\", \"Serving Weight 8 g\", \"Serving Weight 9 g\", \"200 Calorie Weight g\"] \n",
    "nutrition_facts = nutrition_facts.drop(columns=more_drop, axis=1)"
   ]
  },
  {
   "cell_type": "code",
   "execution_count": null,
   "metadata": {},
   "outputs": [],
   "source": [
    "def remove_missing_values(prop_required_column=.70, prop_required_row=.70, df=nutrition_facts):\n",
    "\n",
    "    # drop column if 70% of its rows are empty\n",
    "    threshold = int(prop_required_column*len(df))\n",
    "    df.dropna(axis=1, thresh=threshold, inplace=True)\n",
    "    \n",
    "    # drop row if 70% of its columns are empty\n",
    "    threshold = int(prop_required_row*len(df.columns))\n",
    "    df.dropna(axis=0, thresh=threshold, inplace=True)\n",
    "\n",
    "    return df"
   ]
  },
  {
   "cell_type": "code",
   "execution_count": null,
   "metadata": {},
   "outputs": [],
   "source": [
    "def fill_nutrition(df, col, fill_value):\n",
    "\n",
    "    df[col].fillna(fill_value, inplace=True)\n",
    "\n",
    "    return df"
   ]
  },
  {
   "cell_type": "code",
   "execution_count": null,
   "metadata": {},
   "outputs": [],
   "source": [
    "# drop column if 70% of its rows are empty\n",
    "prop_required_column = .70\n",
    "threshold = int(prop_required_column*len(nutrition_facts))\n",
    "nutrition_facts = nutrition_facts.dropna(axis=1, thresh=threshold)"
   ]
  },
  {
   "cell_type": "code",
   "execution_count": null,
   "metadata": {},
   "outputs": [],
   "source": [
    "nutrition_facts = nutrition_facts.fillna(0)"
   ]
  },
  {
   "cell_type": "code",
   "execution_count": null,
   "metadata": {},
   "outputs": [],
   "source": [
    "# nutrition_facts.isnull().sum().to_dict()"
   ]
  },
  {
   "cell_type": "code",
   "execution_count": null,
   "metadata": {},
   "outputs": [],
   "source": [
    "(nutrition_facts.isnull().sum()/len(nutrition_facts)).to_dict()"
   ]
  },
  {
   "cell_type": "code",
   "execution_count": null,
   "metadata": {},
   "outputs": [],
   "source": [
    "nutrition_facts.head(5)"
   ]
  },
  {
   "cell_type": "code",
   "execution_count": null,
   "metadata": {},
   "outputs": [],
   "source": [
    "nutrition_facts.info()"
   ]
  },
  {
   "cell_type": "code",
   "execution_count": null,
   "metadata": {},
   "outputs": [],
   "source": [
    "nutrition_facts.columns = nutrition_facts.columns.str.lower()\n",
    "nutrition_facts.columns"
   ]
  },
  {
   "cell_type": "markdown",
   "metadata": {},
   "source": [
    "### Column Units\n",
    "- unitless: food group, calories, pral score\n",
    "- gram (g): fat, protein, carbohydrate, sugars, fiber, saturated fats, water, alcohol\n",
    "- milligram (mg): cholesterol, calcium, iron, potassium, magnesium, vitamin c, vitamin e alphatocopherol, omega 3s, omega 6s, phosphorus, sodium, zinc, copper, thiamin b1, riboflavin b2, niacin b3, vitamin b6, choline, fatty acids total monounsaturated, fatty acids total polyunsaturated, caffeine, theobromine\n",
    "- micrograms (mcg): vitamin a, vitamin b12, vitamin d, selenium, folate b9, folic acid, food folate, folate dfe, retinol, carotene beta, carotene alpha, lycopene, lutein + zeaxanthin, vitamin k"
   ]
  },
  {
   "cell_type": "code",
   "execution_count": null,
   "metadata": {},
   "outputs": [],
   "source": [
    "cols_rename = {\"food group\": \"food_group\", \"saturated fats g\": \"saturated_fats\", \"pral score\": \"pral_score\", \"fat g\": \"fat\", \"protein g\": \"protein\", \"carbohydrate g\": \"carbohydrate\", \"sugars g\": \"sugars\", \"fiber g\": \"fiber\", \"cholesterol mg\": \"cholesterol\", \"calcium mg\": \"calcium\", \"iron fe mg\": \"iron\", \"potassium k mg\": \"potassium\", \"magnesium mg\": \"magnesium\", \"vitamin a rae mcg\": \"'vitamin_a\", \"vitamin c mg\": \"vitamin_c\", \"vitamin b12 mcg\": \"vitamin_b12\", \"vitamin d mcg\": \"vitamin_d\", \"vitamin e alphatocopherol mg\": \"vitamin_e_alphatocopherol\", \"water g\": \"water\", \"omega 3s mg\": \"omega_3s\", \"omega 6s mg\": \"omega_6s\", \"phosphorus p mg\": \"phosphorus\", \"sodium mg\": \"sodium\", \"zinc zn mg\": \"zinc\", \"copper cu mg\": \"copper\", \"selenium se mcg\": \"selenium\", \"thiamin b1 mg\": \"thiamin_b1\", \"riboflavin b2 mg\": \"riboflavin_b2\", \"niacin b3 mg\": \"niacin_b3\", \"vitamin b6 mg\": \"vitamin_b6\", \"folate b9 mcg\": \"folate_b9\", \"folic acid mcg\": \"folic_acid\", \"food folate mcg\": \"food_folate\", \"folate dfe mcg\": \"folate_dfe\", \"choline mg\": \"choline\", \"retinol mcg\": \"retinol\", \"carotene beta mcg\": \"carotene_beta\", \"carotene alpha mcg\": \"carotene_alpha\", \"lycopene mcg\": \"lycopene\", \"lutein + zeaxanthin mcg\": \"lutein_plus_zeaxanthin\", \"vitamin k mcg\": \"vitamin_k\", \"fatty acids total monounsaturated mg\": \"fatty_acids_total_monounsaturated\", \"fatty acids total polyunsaturated mg\": \"fatty_acids_total_polyunsaturated\", \"alcohol g\": \"alcohol\", \"caffeine mg\": \"caffeine\", \"theobromine mg\": \"theobromine\" }\n",
    "nutrition_facts = nutrition_facts.rename(mapper=cols_rename, axis=1)\n",
    "nutrition_facts.columns"
   ]
  },
  {
   "cell_type": "code",
   "execution_count": null,
   "metadata": {},
   "outputs": [],
   "source": [
    "nutrition_facts.head(3)"
   ]
  },
  {
   "cell_type": "code",
   "execution_count": null,
   "metadata": {},
   "outputs": [],
   "source": [
    "from prepare import Prepare\n",
    "\n",
    "nutrition_facts = Prepare().get_food_prep()\n",
    "nutrition_facts.head(3)"
   ]
  },
  {
   "cell_type": "code",
   "execution_count": null,
   "metadata": {},
   "outputs": [],
   "source": []
  }
 ],
 "metadata": {
  "interpreter": {
   "hash": "3d597f4c481aa0f25dceb95d2a0067e73c0966dcbd003d741d821a7208527ecf"
  },
  "kernelspec": {
   "display_name": "Python 3.9.5 64-bit ('base': conda)",
   "language": "python",
   "name": "python3"
  },
  "language_info": {
   "codemirror_mode": {
    "name": "ipython",
    "version": 3
   },
   "file_extension": ".py",
   "mimetype": "text/x-python",
   "name": "python",
   "nbconvert_exporter": "python",
   "pygments_lexer": "ipython3",
   "version": "3.9.5"
  },
  "orig_nbformat": 4
 },
 "nbformat": 4,
 "nbformat_minor": 2
}
