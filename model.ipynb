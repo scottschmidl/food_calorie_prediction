{
 "cells": [
  {
   "cell_type": "code",
   "execution_count": 27,
   "metadata": {},
   "outputs": [],
   "source": [
    "from split_get_scale import SplitGetScale\n",
    "from prepare import Prepare\n",
    "from sklearn.linear_model import LinearRegression, LassoCV, RidgeCV\n",
    "from sklearn.model_selection import RandomizedSearchCV\n",
    "from sklearn.ensemble import RandomForestRegressor\n",
    "from sklearn.metrics import mean_squared_error\n",
    "\n",
    "nutrition_facts = Prepare().get_food_prep()\n",
    "\n",
    "sgs = SplitGetScale()\n",
    "train, validate, test = sgs.split(nutrition_facts)\n",
    "(X_train, y_train), (X_validate, y_validate), (X_test, y_test) = sgs.get_Xy(train, validate, test, target_col=\"calories\", cols_drop=[\"calories\", \"food_group\"])"
   ]
  },
  {
   "cell_type": "code",
   "execution_count": 28,
   "metadata": {},
   "outputs": [
    {
     "name": "stdout",
     "output_type": "stream",
     "text": [
      "TRAIN\n",
      "X_train Shape: (9544, 45)\n",
      "y_train Shape: (9544,)\n",
      "VALIDATE\n",
      "X_validate Shape: (2386, 45)\n",
      "y_validate Shape: (2386,)\n",
      "TEST\n",
      "X_test Shape: (2106, 45)\n",
      "y_test Shape: (2106,)\n"
     ]
    }
   ],
   "source": [
    "print(f\"TRAIN\\nX_train Shape: {X_train.shape}\")\n",
    "print(f\"y_train Shape: {y_train.shape}\")\n",
    "print(f\"VALIDATE\\nX_validate Shape: {X_validate.shape}\")\n",
    "print(f\"y_validate Shape: {y_validate.shape}\")\n",
    "print(f\"TEST\\nX_test Shape: {X_test.shape}\")\n",
    "print(f\"y_test Shape: {y_test.shape}\")"
   ]
  },
  {
   "cell_type": "code",
   "execution_count": 29,
   "metadata": {},
   "outputs": [],
   "source": [
    "X_train_scaled, X_validate_scaled, X_test_scaled = sgs.scale(X_train, X_validate, X_test)"
   ]
  },
  {
   "cell_type": "markdown",
   "metadata": {},
   "source": [
    "### Baseline"
   ]
  },
  {
   "cell_type": "code",
   "execution_count": 20,
   "metadata": {},
   "outputs": [],
   "source": [
    "act_pred_error = pd.DataFrame({\"actual\": y_train})\n",
    "act_pred_error[\"baseline_prediction\"] = y_train.mean()"
   ]
  },
  {
   "cell_type": "code",
   "execution_count": 21,
   "metadata": {},
   "outputs": [
    {
     "data": {
      "text/html": [
       "<div>\n",
       "<style scoped>\n",
       "    .dataframe tbody tr th:only-of-type {\n",
       "        vertical-align: middle;\n",
       "    }\n",
       "\n",
       "    .dataframe tbody tr th {\n",
       "        vertical-align: top;\n",
       "    }\n",
       "\n",
       "    .dataframe thead th {\n",
       "        text-align: right;\n",
       "    }\n",
       "</style>\n",
       "<table border=\"1\" class=\"dataframe\">\n",
       "  <thead>\n",
       "    <tr style=\"text-align: right;\">\n",
       "      <th></th>\n",
       "      <th>actual</th>\n",
       "      <th>baseline_prediction</th>\n",
       "    </tr>\n",
       "  </thead>\n",
       "  <tbody>\n",
       "    <tr>\n",
       "      <th>5653</th>\n",
       "      <td>44.0</td>\n",
       "      <td>192.341745</td>\n",
       "    </tr>\n",
       "    <tr>\n",
       "      <th>9675</th>\n",
       "      <td>223.0</td>\n",
       "      <td>192.341745</td>\n",
       "    </tr>\n",
       "    <tr>\n",
       "      <th>8162</th>\n",
       "      <td>207.0</td>\n",
       "      <td>192.341745</td>\n",
       "    </tr>\n",
       "    <tr>\n",
       "      <th>7994</th>\n",
       "      <td>67.0</td>\n",
       "      <td>192.341745</td>\n",
       "    </tr>\n",
       "    <tr>\n",
       "      <th>10728</th>\n",
       "      <td>267.0</td>\n",
       "      <td>192.341745</td>\n",
       "    </tr>\n",
       "  </tbody>\n",
       "</table>\n",
       "</div>"
      ],
      "text/plain": [
       "       actual  baseline_prediction\n",
       "5653     44.0           192.341745\n",
       "9675    223.0           192.341745\n",
       "8162    207.0           192.341745\n",
       "7994     67.0           192.341745\n",
       "10728   267.0           192.341745"
      ]
     },
     "execution_count": 21,
     "metadata": {},
     "output_type": "execute_result"
    }
   ],
   "source": [
    "act_pred_error.head()"
   ]
  },
  {
   "cell_type": "code",
   "execution_count": 22,
   "metadata": {},
   "outputs": [
    {
     "data": {
      "text/plain": [
       "149.2582021605062"
      ]
     },
     "execution_count": 22,
     "metadata": {},
     "output_type": "execute_result"
    }
   ],
   "source": [
    "baseline_rmse = mean_squared_error(act_pred_error[\"actual\"], act_pred_error[\"baseline_prediction\"], squared=False)\n",
    "baseline_rmse"
   ]
  },
  {
   "cell_type": "code",
   "execution_count": 14,
   "metadata": {},
   "outputs": [],
   "source": [
    "def grid_search(X, y, model, params_dic):\n",
    "    grid = RandomizedSearchCV(estimator=model, param_distributions=params_dic, n_jobs=-1, n_iter=5)\n",
    "    return grid.fit(X, y)"
   ]
  },
  {
   "cell_type": "code",
   "execution_count": 15,
   "metadata": {},
   "outputs": [
    {
     "name": "stdout",
     "output_type": "stream",
     "text": [
      "random forest regressor: RandomForestRegressor(max_depth=25, n_estimators=10, n_jobs=-1,\n",
      "                      random_state=123, warm_start=True)\n",
      "random forest regressor: {'warm_start': True, 'n_estimators': 10, 'min_samples_split': 2, 'min_samples_leaf': 1, 'max_depth': 25, 'bootstrap': True}\n"
     ]
    }
   ],
   "source": [
    "rfr_grid = {\"n_estimators\": [10, 25, 50, 75, 100] , \"max_depth\": [None, 10, 25, 50] , \"min_samples_split\": [2, 4, 6, 8, 10], \"min_samples_leaf\": [1, 2.5, 5,], \"bootstrap\": [True, False], \"warm_start\": [False, True]}\n",
    "rfr = grid_search(X_train_scaled, y_train, RandomForestRegressor(random_state=123, n_jobs=-1), rfr_grid)\n",
    "\n",
    "print(f\"random forest regressor: {rfr.best_estimator_}\")\n",
    "print(f\"random forest regressor: {rfr.best_params_}\")"
   ]
  },
  {
   "cell_type": "code",
   "execution_count": 30,
   "metadata": {},
   "outputs": [],
   "source": [
    "lasso = LassoCV(random_state=123).fit(X_train_scaled, y_train)\n",
    "ridge = RidgeCV().fit(X_train_scaled, y_train)\n",
    "rfr = RandomForestRegressor(n_estimators=10, max_depth=25, min_samples_split=2, min_samples_leaf=1, bootstrap=True, warm_start=True, random_state=123, n_jobs=-1).fit(X_train_scaled, y_train)\n",
    "lr = LinearRegression().fit(X_train_scaled, y_train)"
   ]
  },
  {
   "cell_type": "code",
   "execution_count": 33,
   "metadata": {},
   "outputs": [
    {
     "name": "stdout",
     "output_type": "stream",
     "text": [
      "TRAIN\n",
      "lasso train rmse: 7.420057544219747\n",
      "ridge train rmse: 7.118717795498001\n",
      "rfr train rmse: 4.307415167013904\n",
      "lr train rmse: 7.118513472113171\n",
      "VALIDATE\n",
      "lasso validation rmse: 8.75661754442885\n",
      "ridge validation rmse: 7.965744501297173\n",
      "rfr validation rmse: 10.644916576607443\n",
      "lr validation rmse: 7.9644764723582835\n"
     ]
    }
   ],
   "source": [
    "lass_pred_train = lasso.predict(X_train_scaled)\n",
    "ridge_pred_train = ridge.predict(X_train_scaled)\n",
    "rfr_pred_train = rfr.predict(X_train_scaled)\n",
    "lr_pred_train = lr.predict(X_train_scaled)\n",
    "\n",
    "lass_pred_val = lasso.predict(X_validate_scaled)\n",
    "ridge_pred_val = ridge.predict(X_validate_scaled)\n",
    "rfr_pred_val = rfr.predict(X_validate_scaled)\n",
    "lr_pred_val = lr.predict(X_validate_scaled)\n",
    "\n",
    "print(f\"TRAIN\\nlasso train rmse: {mean_squared_error(y_train, lass_pred_train, squared=False)}\\nridge train rmse: {mean_squared_error(y_train, ridge_pred_train, squared=False)}\\nrfr train rmse: {mean_squared_error(y_train, rfr_pred_train, squared=False)}\\nlr train rmse: { mean_squared_error(y_train, lr_pred_train, squared=False)}\")\n",
    "\n",
    "print(f\"VALIDATE\\nlasso validation rmse: {mean_squared_error(y_validate, lass_pred_val, squared=False)}\\nridge validation rmse: {mean_squared_error(y_validate, ridge_pred_val, squared=False)}\\nrfr validation rmse: {mean_squared_error(y_validate, rfr_pred_val, squared=False)}\\nlr validation rmse: { mean_squared_error(y_validate, lr_pred_val, squared=False)}\")"
   ]
  },
  {
   "cell_type": "markdown",
   "metadata": {},
   "source": [
    "### move forward with Linear Regresion\n",
    "- lasso is almost overfitting\n",
    "- ridge looks good\n",
    "- rfr overfit\n",
    "- lr beat ridfe"
   ]
  },
  {
   "cell_type": "markdown",
   "metadata": {},
   "source": [
    "### Clustering Model\n",
    "<p>TRAIN</p>\n",
    "<p>lasso train rmse: 7.407998823002653</p>\n",
    "<p>ridge train rmse: 7.10763970624999</p>\n",
    "<p>rfr train rmse: 4.268055366061249</p>\n",
    "<p>lr train rmse: 7.107435935804069</p>\n",
    "<p>VALIDATE</p>\n",
    "<p>lasso validation rmse: 8.745662599770194</p>\n",
    "<p>ridge validation rmse: 7.961317627625173</p>\n",
    "<p>rfr validation rmse: 10.686753744206765</p>\n",
    "<p>lr validation rmse: 7.960004839921713</p>"
   ]
  },
  {
   "cell_type": "markdown",
   "metadata": {},
   "source": [
    "### Clustering Model is slightly better"
   ]
  }
 ],
 "metadata": {
  "interpreter": {
   "hash": "3d597f4c481aa0f25dceb95d2a0067e73c0966dcbd003d741d821a7208527ecf"
  },
  "kernelspec": {
   "display_name": "Python 3.9.5 64-bit ('base': conda)",
   "language": "python",
   "name": "python3"
  },
  "language_info": {
   "codemirror_mode": {
    "name": "ipython",
    "version": 3
   },
   "file_extension": ".py",
   "mimetype": "text/x-python",
   "name": "python",
   "nbconvert_exporter": "python",
   "pygments_lexer": "ipython3",
   "version": "3.9.5"
  },
  "orig_nbformat": 4
 },
 "nbformat": 4,
 "nbformat_minor": 2
}
