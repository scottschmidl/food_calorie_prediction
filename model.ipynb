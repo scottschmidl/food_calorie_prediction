{
 "cells": [
  {
   "cell_type": "code",
   "execution_count": 2,
   "metadata": {},
   "outputs": [],
   "source": [
    "from split_get_scale import SplitGetScale\n",
    "from prepare import Prepare\n",
    "import pandas as pd\n",
    "pd.options.display.max_columns = 50\n",
    "\n",
    "nutrition_facts = Prepare().get_food_prep()\n",
    "\n",
    "sgs = SplitGetScale()\n",
    "train, validate, test = sgs.split(nutrition_facts)\n",
    "(X_train, y_train), (X_validate, y_validate), (X_test, y_test) = sgs.get_Xy(train, validate, test, target_col=\"calories\", cols_drop=[\"calories\"])"
   ]
  },
  {
   "cell_type": "code",
   "execution_count": 4,
   "metadata": {},
   "outputs": [
    {
     "name": "stdout",
     "output_type": "stream",
     "text": [
      "TRAIN\n",
      "X_train Shape: (9544, 46)\n",
      "y_train Shape: (9544,)\n",
      "VALIDATE\n",
      "X_validate Shape: (2386, 46)\n",
      "y_validate Shape: (2386,)\n",
      "TEST\n",
      "X_test Shape: (2106, 46)\n",
      "y_test Shape: (2106,)\n"
     ]
    }
   ],
   "source": [
    "print(f\"TRAIN\\nX_train Shape: {X_train.shape}\")\n",
    "print(f\"y_train Shape: {y_train.shape}\")\n",
    "print(f\"VALIDATE\\nX_validate Shape: {X_validate.shape}\")\n",
    "print(f\"y_validate Shape: {y_validate.shape}\")\n",
    "print(f\"TEST\\nX_test Shape: {X_test.shape}\")\n",
    "print(f\"y_test Shape: {y_test.shape}\")\n"
   ]
  },
  {
   "cell_type": "code",
   "execution_count": null,
   "metadata": {},
   "outputs": [],
   "source": []
  }
 ],
 "metadata": {
  "interpreter": {
   "hash": "3d597f4c481aa0f25dceb95d2a0067e73c0966dcbd003d741d821a7208527ecf"
  },
  "kernelspec": {
   "display_name": "Python 3.9.5 64-bit ('base': conda)",
   "language": "python",
   "name": "python3"
  },
  "language_info": {
   "codemirror_mode": {
    "name": "ipython",
    "version": 3
   },
   "file_extension": ".py",
   "mimetype": "text/x-python",
   "name": "python",
   "nbconvert_exporter": "python",
   "pygments_lexer": "ipython3",
   "version": "3.9.5"
  },
  "orig_nbformat": 4
 },
 "nbformat": 4,
 "nbformat_minor": 2
}
