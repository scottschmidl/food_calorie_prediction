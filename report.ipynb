{
 "cells": [
  {
   "cell_type": "markdown",
   "metadata": {},
   "source": [
    "## Predicting Calories\n",
    "By: Scott Schmidl, Data Scientist\n",
    "01/24/2021\n",
    "\n",
    "### Goal\n",
    "The goal of this project is to \n",
    "\n",
    "### Description\n",
    "\n",
    "### Initial Questions\n",
    "<p>1)</p>\n",
    "<p>2)</p>\n",
    "<p>3)</p>\n",
    "<p>4)</p>\n",
    "\n",
    "### Data Dictionary\n",
    "<table>\n",
    "<thead><tr>\n",
    "<th>Target</th>\n",
    "<th>Meaning</th>\n",
    "</tr>\n",
    "</thead>\n",
    "<tbody>\n",
    "<tr>\n",
    "<td>calories</td>\n",
    "<td>amount of calories in the food item</td>\n",
    "</tr>\n",
    "</tbody>\n",
    "</table>\n",
    "\n",
    "<table>\n",
    "<thead><tr>\n",
    "<th>Variable</th>\n",
    "<th>Meaning</th>\n",
    "</tr>\n",
    "</thead>\n",
    "<tbody>\n",
    "<tr>\n",
    "<td></td>\n",
    "<td></td>\n",
    "</tr>\n",
    "<tr>\n",
    "<td></td>\n",
    "<td></td>\n",
    "</tr>\n",
    "<tr>\n",
    "<td></td>\n",
    "<td></td>\n",
    "</tr>\n",
    "<tr>\n",
    "<td></td>\n",
    "<td></td>\n",
    "</tr>\n",
    "<tr>\n",
    "<td></td>\n",
    "<td></td>\n",
    "</tr>\n",
    "<tr>\n",
    "<td></td>\n",
    "<td></td>\n",
    "</tr>\n",
    "</tbody>\n",
    "</table>\n",
    "\n",
    "### Wrangling Food Data\n",
    "- To wrangle the food data,"
   ]
  },
  {
   "cell_type": "markdown",
   "metadata": {},
   "source": [
    "### Preparing Food"
   ]
  },
  {
   "cell_type": "code",
   "execution_count": null,
   "metadata": {},
   "outputs": [],
   "source": []
  },
  {
   "cell_type": "markdown",
   "metadata": {},
   "source": [
    "### The Issue"
   ]
  },
  {
   "cell_type": "code",
   "execution_count": null,
   "metadata": {},
   "outputs": [],
   "source": [
    "### put a viz here"
   ]
  },
  {
   "cell_type": "markdown",
   "metadata": {},
   "source": [
    "#### Take Away\n",
    "- \n",
    "\n",
    "\n",
    "### Exploratory Data Analysis\n",
    "- Signifcance Level for each statistical test will be 0.05.\n",
    "\n",
    "#### Question 1\n",
    "- \n",
    "\n",
    "<p>H_o:</p>\n",
    "<p>H_a:</p>"
   ]
  },
  {
   "cell_type": "code",
   "execution_count": null,
   "metadata": {},
   "outputs": [],
   "source": []
  },
  {
   "cell_type": "markdown",
   "metadata": {},
   "source": [
    "#### Take Away\n",
    "- With a P-Value of \n",
    "\n",
    "#### Question 2\n",
    "- \n",
    "\n",
    "<p>H_o:</p>\n",
    "<p>H_a:</p>"
   ]
  },
  {
   "cell_type": "code",
   "execution_count": null,
   "metadata": {},
   "outputs": [],
   "source": []
  },
  {
   "cell_type": "markdown",
   "metadata": {},
   "source": [
    "#### Take Away\n",
    "- With a P-Value of \n",
    "\n",
    "#### Question 3\n",
    "-   \n",
    "\n",
    "<p>H_o:</p>\n",
    "<p>H_a:</p>"
   ]
  },
  {
   "cell_type": "code",
   "execution_count": null,
   "metadata": {},
   "outputs": [],
   "source": []
  },
  {
   "cell_type": "markdown",
   "metadata": {},
   "source": [
    "#### Take Away\n",
    "- With a P-Value of \n",
    "\n",
    "#### Question 4\n",
    "- \n",
    "\n",
    "<p>H_o:</p>\n",
    "<p>H_a:</p>"
   ]
  },
  {
   "cell_type": "code",
   "execution_count": null,
   "metadata": {},
   "outputs": [],
   "source": []
  },
  {
   "cell_type": "markdown",
   "metadata": {},
   "source": [
    "#### Take Away\n",
    "- \n",
    "\n",
    "#### Key Take Aways\n",
    "- \n",
    "\n",
    "### Predicting Food Calories\n",
    "- I will use . I will pick the best model using Root Mean Squared Error, because I am concerned with how close my models can predict to the actual caloric value.\n",
    "\n",
    "### Baseline\n",
    "- My baseline prediction will be predicting the mean calories of a food and examining the residuals."
   ]
  },
  {
   "cell_type": "code",
   "execution_count": null,
   "metadata": {},
   "outputs": [],
   "source": []
  },
  {
   "cell_type": "markdown",
   "metadata": {},
   "source": [
    "### Models\n",
    "- A grid search was performed on each algorithm to find the best hyper parameters. The PLACE MODEL HERE performed the best with a RMSE of ,on training, and , on validation."
   ]
  },
  {
   "cell_type": "code",
   "execution_count": null,
   "metadata": {},
   "outputs": [],
   "source": []
  },
  {
   "cell_type": "code",
   "execution_count": null,
   "metadata": {},
   "outputs": [],
   "source": []
  },
  {
   "cell_type": "code",
   "execution_count": null,
   "metadata": {},
   "outputs": [],
   "source": []
  },
  {
   "cell_type": "markdown",
   "metadata": {},
   "source": [
    "- "
   ]
  },
  {
   "cell_type": "code",
   "execution_count": null,
   "metadata": {},
   "outputs": [],
   "source": []
  },
  {
   "cell_type": "markdown",
   "metadata": {},
   "source": [
    "### Conclusion\n",
    "- \n",
    "\n",
    "### Recommendations and Next Steps\n",
    "- "
   ]
  },
  {
   "cell_type": "markdown",
   "metadata": {},
   "source": []
  }
 ],
 "metadata": {
  "interpreter": {
   "hash": "3d597f4c481aa0f25dceb95d2a0067e73c0966dcbd003d741d821a7208527ecf"
  },
  "kernelspec": {
   "display_name": "Python 3.9.5 64-bit ('base': conda)",
   "language": "python",
   "name": "python3"
  },
  "language_info": {
   "name": "python",
   "version": "3.9.5"
  },
  "orig_nbformat": 4
 },
 "nbformat": 4,
 "nbformat_minor": 2
}
